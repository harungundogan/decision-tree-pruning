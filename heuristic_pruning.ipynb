{
 "cells": [
  {
   "cell_type": "code",
   "execution_count": null,
   "id": "296de18e-9eee-4ca7-a045-1ae228e523e4",
   "metadata": {},
   "outputs": [],
   "source": [
    "import numpy as np\n",
    "import matplotlib.pyplot as plt\n",
    "from sklearn.tree import DecisionTreeClassifier\n",
    "from sklearn.metrics import accuracy_score \n",
    "from copy import deepcopy\n",
    "\n",
    "def prune_heuristcly(tree, X_train, y_train, X_test, y_test, max_itr):\n",
    "    best_accuracy = 0\n",
    "    best_tree = None\n",
    "    queue = [(tree, accuracy_score(y_test, tree.predict(X_test)))]\n",
    "    itr_count = 0 \n",
    "    while queue and itr_count < max_itr:\n",
    "        current_tree, current_accuracy = queue.pop(0)\n",
    "        if current_accuracy > best_accuracy:\n",
    "            best_accuracy = current_accuracy\n",
    "            best_tree = deepcopy(current_tree)\n",
    "\n",
    "        for node_index in range(current_tree.tree_.node_count):\n",
    "            if current_tree.tree_.children_left[node_index] == current_tree.tree_.children_right[node_index]:\n",
    "                continue\n",
    "\n",
    "            current_tree_copy = deepcopy(current_tree)\n",
    "            prune_subtree(current_tree_copy, node_index)\n",
    "\n",
    "            pruned_accuracy = accuracy_score(y_test, current_tree_copy.predict(X_test))\n",
    "            queue.append((current_tree_copy, pruned_accuracy))\n",
    "            itr_count += 1\n",
    "            \n",
    "    return best_accuracy, best_tree\n",
    "\n",
    "def prune_subtree(tree, node_index):\n",
    "    tree.tree_.children_left[node_index] = -1\n",
    "    tree.tree_.children_right[node_index] = -1\n"
   ]
  },
  {
   "cell_type": "code",
   "execution_count": null,
   "id": "a34f4202-2b1c-43da-9c83-59354e59dfe3",
   "metadata": {},
   "outputs": [],
   "source": [
    "max_itr = (((dt_classifier.tree_.max_depth)*(dt_classifier.tree_.max_depth-1)) / 2)*2**(dt_classifier.tree_.max_depth // 2)"
   ]
  },
  {
   "cell_type": "code",
   "execution_count": null,
   "id": "e61ffc8b-b1eb-4ef2-8ff8-5fd6d1f0c29b",
   "metadata": {},
   "outputs": [],
   "source": [
    "best_accuracy, best_pruned_tree = prune_heuristcly(dt_classifier, X_train, y_train, X_test, y_test, max_itr)\n",
    "print(\"The best retrieved accuracy from Reduced Error Pruning: \", best_accuracy)"
   ]
  }
 ],
 "metadata": {
  "kernelspec": {
   "display_name": "Python 3 (ipykernel)",
   "language": "python",
   "name": "python3"
  },
  "language_info": {
   "codemirror_mode": {
    "name": "ipython",
    "version": 3
   },
   "file_extension": ".py",
   "mimetype": "text/x-python",
   "name": "python",
   "nbconvert_exporter": "python",
   "pygments_lexer": "ipython3",
   "version": "3.11.3"
  }
 },
 "nbformat": 4,
 "nbformat_minor": 5
}
